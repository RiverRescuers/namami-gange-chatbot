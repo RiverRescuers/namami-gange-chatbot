{
 "cells": [
  {
   "cell_type": "code",
   "execution_count": 1,
   "id": "5d8ac1f8",
   "metadata": {},
   "outputs": [],
   "source": [
    "# ! pip install langchain\n",
    "# ! pip install pypdf"
   ]
  },
  {
   "cell_type": "code",
   "execution_count": 52,
   "id": "7c168985",
   "metadata": {},
   "outputs": [],
   "source": [
    "import os\n",
    "import openai\n",
    "import sys\n",
    "sys.path.append('../..')\n",
    "\n",
    "from dotenv import load_dotenv, find_dotenv\n",
    "_ = load_dotenv(find_dotenv()) # read local .env file\n",
    "\n",
    "openai.api_key  = os.environ['OPENAI_API_KEY']"
   ]
  },
  {
   "cell_type": "code",
   "execution_count": 3,
   "id": "afaedb3c",
   "metadata": {},
   "outputs": [],
   "source": [
    "from langchain.document_loaders import PyPDFLoader\n",
    "\n",
    "# Load PDF\n",
    "loaders = [\n",
    "    # Duplicate documents on purpose - messy data\n",
    "    PyPDFLoader(\"pdfs/Namami-Gange-Programme.pdf\")\n",
    "]\n",
    "docs = []\n",
    "for loader in loaders:\n",
    "    docs.extend(loader.load())"
   ]
  },
  {
   "cell_type": "code",
   "execution_count": 4,
   "id": "aee41e7b",
   "metadata": {},
   "outputs": [],
   "source": [
    "# Split PDF\n",
    "from langchain.text_splitter import RecursiveCharacterTextSplitter\n",
    "text_splitter = RecursiveCharacterTextSplitter(\n",
    "    chunk_size = 1500,\n",
    "    chunk_overlap = 150\n",
    ")"
   ]
  },
  {
   "cell_type": "code",
   "execution_count": 5,
   "id": "31864ea5",
   "metadata": {},
   "outputs": [],
   "source": [
    "splits = text_splitter.split_documents(docs)"
   ]
  },
  {
   "cell_type": "code",
   "execution_count": 6,
   "id": "d9490064",
   "metadata": {},
   "outputs": [
    {
     "data": {
      "text/plain": [
       "18"
      ]
     },
     "execution_count": 6,
     "metadata": {},
     "output_type": "execute_result"
    }
   ],
   "source": [
    "len(splits)"
   ]
  },
  {
   "cell_type": "code",
   "execution_count": 7,
   "id": "06383656",
   "metadata": {},
   "outputs": [],
   "source": [
    "from langchain.embeddings.openai import OpenAIEmbeddings\n",
    "embedding = OpenAIEmbeddings()"
   ]
  },
  {
   "cell_type": "markdown",
   "id": "240dff2f",
   "metadata": {},
   "source": [
    "## VectorStore (Chroma)"
   ]
  },
  {
   "cell_type": "code",
   "execution_count": 8,
   "id": "3bb3651d",
   "metadata": {},
   "outputs": [
    {
     "name": "stdout",
     "output_type": "stream",
     "text": [
      "Requirement already satisfied: chromadb in /opt/homebrew/lib/python3.11/site-packages (0.4.13)\n",
      "Requirement already satisfied: requests>=2.28 in /opt/homebrew/lib/python3.11/site-packages (from chromadb) (2.28.1)\n",
      "Requirement already satisfied: pydantic>=1.9 in /opt/homebrew/lib/python3.11/site-packages (from chromadb) (2.3.0)\n",
      "Requirement already satisfied: chroma-hnswlib==0.7.3 in /opt/homebrew/lib/python3.11/site-packages (from chromadb) (0.7.3)\n",
      "Requirement already satisfied: fastapi>=0.95.2 in /opt/homebrew/lib/python3.11/site-packages (from chromadb) (0.101.1)\n",
      "Requirement already satisfied: uvicorn[standard]>=0.18.3 in /opt/homebrew/lib/python3.11/site-packages (from chromadb) (0.23.2)\n",
      "Requirement already satisfied: posthog>=2.4.0 in /opt/homebrew/lib/python3.11/site-packages (from chromadb) (3.0.2)\n",
      "Requirement already satisfied: typing-extensions>=4.5.0 in /opt/homebrew/lib/python3.11/site-packages (from chromadb) (4.7.1)\n",
      "Requirement already satisfied: pulsar-client>=3.1.0 in /opt/homebrew/lib/python3.11/site-packages (from chromadb) (3.3.0)\n",
      "Requirement already satisfied: onnxruntime>=1.14.1 in /opt/homebrew/lib/python3.11/site-packages (from chromadb) (1.16.0)\n",
      "Requirement already satisfied: tokenizers>=0.13.2 in /opt/homebrew/lib/python3.11/site-packages (from chromadb) (0.13.2)\n",
      "Requirement already satisfied: pypika>=0.48.9 in /opt/homebrew/lib/python3.11/site-packages (from chromadb) (0.48.9)\n",
      "Requirement already satisfied: tqdm>=4.65.0 in /opt/homebrew/lib/python3.11/site-packages (from chromadb) (4.66.1)\n",
      "Requirement already satisfied: overrides>=7.3.1 in /opt/homebrew/lib/python3.11/site-packages (from chromadb) (7.4.0)\n",
      "Requirement already satisfied: importlib-resources in /opt/homebrew/lib/python3.11/site-packages (from chromadb) (5.10.2)\n",
      "Requirement already satisfied: bcrypt>=4.0.1 in /opt/homebrew/lib/python3.11/site-packages (from chromadb) (4.0.1)\n",
      "Requirement already satisfied: typer>=0.9.0 in /opt/homebrew/lib/python3.11/site-packages (from chromadb) (0.9.0)\n",
      "Requirement already satisfied: numpy>=1.22.5 in /opt/homebrew/lib/python3.11/site-packages (from chromadb) (1.26.0)\n",
      "Requirement already satisfied: starlette<0.28.0,>=0.27.0 in /opt/homebrew/lib/python3.11/site-packages (from fastapi>=0.95.2->chromadb) (0.27.0)\n",
      "Requirement already satisfied: coloredlogs in /opt/homebrew/lib/python3.11/site-packages (from onnxruntime>=1.14.1->chromadb) (15.0.1)\n",
      "Requirement already satisfied: flatbuffers in /opt/homebrew/lib/python3.11/site-packages (from onnxruntime>=1.14.1->chromadb) (23.5.26)\n",
      "Requirement already satisfied: packaging in /opt/homebrew/lib/python3.11/site-packages (from onnxruntime>=1.14.1->chromadb) (21.3)\n",
      "Requirement already satisfied: protobuf in /opt/homebrew/lib/python3.11/site-packages (from onnxruntime>=1.14.1->chromadb) (4.24.3)\n",
      "Requirement already satisfied: sympy in /opt/homebrew/lib/python3.11/site-packages (from onnxruntime>=1.14.1->chromadb) (1.12)\n",
      "Requirement already satisfied: six>=1.5 in /opt/homebrew/lib/python3.11/site-packages (from posthog>=2.4.0->chromadb) (1.16.0)\n",
      "Requirement already satisfied: monotonic>=1.5 in /opt/homebrew/lib/python3.11/site-packages (from posthog>=2.4.0->chromadb) (1.6)\n",
      "Requirement already satisfied: backoff>=1.10.0 in /opt/homebrew/lib/python3.11/site-packages (from posthog>=2.4.0->chromadb) (2.2.1)\n",
      "Requirement already satisfied: python-dateutil>2.1 in /opt/homebrew/lib/python3.11/site-packages (from posthog>=2.4.0->chromadb) (2.8.2)\n",
      "Requirement already satisfied: certifi in /opt/homebrew/lib/python3.11/site-packages (from pulsar-client>=3.1.0->chromadb) (2022.9.24)\n",
      "Requirement already satisfied: annotated-types>=0.4.0 in /opt/homebrew/lib/python3.11/site-packages (from pydantic>=1.9->chromadb) (0.5.0)\n",
      "Requirement already satisfied: pydantic-core==2.6.3 in /opt/homebrew/lib/python3.11/site-packages (from pydantic>=1.9->chromadb) (2.6.3)\n",
      "Requirement already satisfied: charset-normalizer<3,>=2 in /opt/homebrew/lib/python3.11/site-packages (from requests>=2.28->chromadb) (2.1.1)\n",
      "Requirement already satisfied: idna<4,>=2.5 in /opt/homebrew/lib/python3.11/site-packages (from requests>=2.28->chromadb) (2.10)\n",
      "Requirement already satisfied: urllib3<1.27,>=1.21.1 in /opt/homebrew/lib/python3.11/site-packages (from requests>=2.28->chromadb) (1.26.12)\n",
      "Requirement already satisfied: click<9.0.0,>=7.1.1 in /opt/homebrew/lib/python3.11/site-packages (from typer>=0.9.0->chromadb) (8.1.3)\n",
      "Requirement already satisfied: h11>=0.8 in /opt/homebrew/lib/python3.11/site-packages (from uvicorn[standard]>=0.18.3->chromadb) (0.9.0)\n",
      "Requirement already satisfied: httptools>=0.5.0 in /opt/homebrew/lib/python3.11/site-packages (from uvicorn[standard]>=0.18.3->chromadb) (0.6.0)\n",
      "Requirement already satisfied: python-dotenv>=0.13 in /opt/homebrew/lib/python3.11/site-packages (from uvicorn[standard]>=0.18.3->chromadb) (0.21.0)\n",
      "Requirement already satisfied: pyyaml>=5.1 in /opt/homebrew/lib/python3.11/site-packages (from uvicorn[standard]>=0.18.3->chromadb) (6.0)\n",
      "Requirement already satisfied: uvloop!=0.15.0,!=0.15.1,>=0.14.0 in /opt/homebrew/lib/python3.11/site-packages (from uvicorn[standard]>=0.18.3->chromadb) (0.17.0)\n",
      "Requirement already satisfied: watchfiles>=0.13 in /opt/homebrew/lib/python3.11/site-packages (from uvicorn[standard]>=0.18.3->chromadb) (0.20.0)\n",
      "Requirement already satisfied: websockets>=10.4 in /opt/homebrew/lib/python3.11/site-packages (from uvicorn[standard]>=0.18.3->chromadb) (11.0.3)\n",
      "Requirement already satisfied: anyio<5,>=3.4.0 in /opt/homebrew/lib/python3.11/site-packages (from starlette<0.28.0,>=0.27.0->fastapi>=0.95.2->chromadb) (3.6.2)\n",
      "Requirement already satisfied: humanfriendly>=9.1 in /opt/homebrew/lib/python3.11/site-packages (from coloredlogs->onnxruntime>=1.14.1->chromadb) (10.0)\n",
      "Requirement already satisfied: pyparsing!=3.0.5,>=2.0.2 in /opt/homebrew/lib/python3.11/site-packages (from packaging->onnxruntime>=1.14.1->chromadb) (3.0.9)\n",
      "Requirement already satisfied: mpmath>=0.19 in /opt/homebrew/lib/python3.11/site-packages (from sympy->onnxruntime>=1.14.1->chromadb) (1.3.0)\n",
      "Requirement already satisfied: sniffio>=1.1 in /opt/homebrew/lib/python3.11/site-packages (from anyio<5,>=3.4.0->starlette<0.28.0,>=0.27.0->fastapi>=0.95.2->chromadb) (1.3.0)\n"
     ]
    }
   ],
   "source": [
    "! pip install chromadb"
   ]
  },
  {
   "cell_type": "code",
   "execution_count": 9,
   "id": "00e77fba",
   "metadata": {},
   "outputs": [],
   "source": [
    "from langchain.vectorstores import Chroma"
   ]
  },
  {
   "cell_type": "code",
   "execution_count": 10,
   "id": "14e2beeb",
   "metadata": {},
   "outputs": [],
   "source": [
    "persist_directory = 'vector-store/chroma/'"
   ]
  },
  {
   "cell_type": "code",
   "execution_count": 11,
   "id": "75caba81",
   "metadata": {},
   "outputs": [],
   "source": [
    "! rm -rf vector-store/chroma"
   ]
  },
  {
   "cell_type": "code",
   "execution_count": 12,
   "id": "fc7b40d9",
   "metadata": {},
   "outputs": [],
   "source": [
    "vectordb = Chroma.from_documents(\n",
    "    documents=splits,\n",
    "    embedding=embedding,\n",
    "    persist_directory=persist_directory\n",
    ")"
   ]
  },
  {
   "cell_type": "code",
   "execution_count": 13,
   "id": "14f85353",
   "metadata": {},
   "outputs": [],
   "source": [
    "question = \"What is Namami Gange?\""
   ]
  },
  {
   "cell_type": "code",
   "execution_count": 14,
   "id": "20c94d67",
   "metadata": {},
   "outputs": [],
   "source": [
    "docs = vectordb.similarity_search(question,k=3)"
   ]
  },
  {
   "cell_type": "code",
   "execution_count": 15,
   "id": "a576b212",
   "metadata": {},
   "outputs": [
    {
     "data": {
      "text/plain": [
       "3"
      ]
     },
     "execution_count": 15,
     "metadata": {},
     "output_type": "execute_result"
    }
   ],
   "source": [
    "len(docs)"
   ]
  },
  {
   "cell_type": "code",
   "execution_count": 16,
   "id": "3f67b0c4",
   "metadata": {},
   "outputs": [
    {
     "data": {
      "text/plain": [
       "'7 \\n \\nA five tier structure has been created through the Order  No S.O. 3187(E) \\ndated  7th October 2016  invoking the provision under Section 3 of Environment \\n(Protection) Act, 1986 at the national, state and district level to take measures for \\nprevention, control and abatement of environmental pollution in river Ganga and \\nto ensure continuous adequate flow of water so as to rejuvenate the river Ganga  as \\nbelow:8 \\n1. National Ganga Council under chairmanship of Hon’ble Prime Minister of \\nIndia,   \\n2. Empowered Task Force (ETF) on river Ganga under chairmanship of \\nHon’ble Union Minister of Water Resources, River Development and Ganga \\nRejuvenation,   \\n3. National Mission for Clean Ganga (NMCG),   \\n4. State Ganga Co mmittees, and   \\n5. District Ganga Committees in every specified district abutting river Ganga \\nand its tributaries in the States.   \\nNamami Gange Programme  \\n The Namami Gange  programme was introduced in 2014 as an umbrella \\nprogramme, with the aim of integrating previous and  currently ongoing initiatives \\nby enhancing efficiency, extracting synergies and supplementing them with more \\ncomprehensive & better coordinated interventions. The Cabinet approved t he \\nNamami Gange programme on 13 May  2015 for Rs. 20,000 crore for 5 years \\n(2015 -20). This is a significant four -fold increase over the expenditure in the past \\n30 years (Government of India incurred an overall expenditure of approximately \\nRs. 4000 crore on this task since 1985).'"
      ]
     },
     "execution_count": 16,
     "metadata": {},
     "output_type": "execute_result"
    }
   ],
   "source": [
    "docs[2].page_content"
   ]
  },
  {
   "cell_type": "code",
   "execution_count": 17,
   "id": "ea3efb65",
   "metadata": {},
   "outputs": [],
   "source": [
    "vectordb.persist()"
   ]
  },
  {
   "cell_type": "code",
   "execution_count": 18,
   "id": "32edfa03",
   "metadata": {},
   "outputs": [
    {
     "name": "stdout",
     "output_type": "stream",
     "text": [
      "18\n"
     ]
    }
   ],
   "source": [
    "print(vectordb._collection.count())"
   ]
  },
  {
   "cell_type": "code",
   "execution_count": 19,
   "id": "11588129",
   "metadata": {},
   "outputs": [
    {
     "data": {
      "text/plain": [
       "('unit, apart from contemplating on a legislation that aims to check pollution and \\nprotect the river.',\n",
       " '9 \\n \\nrehabilitation and augmentation of existing STPs and immediate short term \\nmeasures for arresti',\n",
       " '7 \\n \\nA five tier structure has been created through the Order  No S.O. 3187(E) \\ndated  7th October 2016  invoking the provision under Section 3 of Environment \\n(Protection) Act, 1986 at the national, state and district level to take measures for \\nprevention, control and abatement of environmental pollution in river Ganga and \\nto ensure continuous adequate flow of water so as to rejuvenate the river Ganga  as \\nbelow:8 \\n1. National Ganga Council under chairmanship of Hon’ble Prime Minister of \\nIndia,   \\n2. Empowered Task Force (ETF) on river Ganga under chairmanship of \\nHon’ble Union Minister of Water Resources, River Development and Ganga \\nRejuvenation,   \\n3. National Mission for Clean Ganga (NMCG),   \\n4. State Ganga Co mmittees, and   \\n5. District Ganga Committees in every specified district abutting river Ganga \\nand its tributaries in the States.   \\nNamami Gange Programme  \\n The Namami Gange  programme was introduced in 2014 as an umbrella \\nprogramme, with the aim of integrating previous and  currently ongoing initiatives \\nby enhancing efficiency, extracting synergies and supplementing them with more \\ncomprehensive & better coordinated interventions. The Cabinet approved t he \\nNamami Gange programme on 13 May  2015 for Rs. 20,000 crore for 5 years \\n(2015 -20). This is a significant four -fold increase over the expenditure in the past \\n30 years (Government of India incurred an overall expenditure of approximately \\nRs. 4000 crore on this task since 1985).')"
      ]
     },
     "execution_count": 19,
     "metadata": {},
     "output_type": "execute_result"
    }
   ],
   "source": [
    "docs[0].page_content[:100], docs[1].page_content[:100], docs[2].page_content"
   ]
  },
  {
   "cell_type": "code",
   "execution_count": 20,
   "id": "0ec30102",
   "metadata": {},
   "outputs": [
    {
     "name": "stderr",
     "output_type": "stream",
     "text": [
      "Number of requested results 20 is greater than number of elements in index 18, updating n_results = 18\n"
     ]
    }
   ],
   "source": [
    "docs_mmr = vectordb.max_marginal_relevance_search(question,k=3)"
   ]
  },
  {
   "cell_type": "code",
   "execution_count": 21,
   "id": "7e49d54d",
   "metadata": {},
   "outputs": [
    {
     "data": {
      "text/plain": [
       "('unit, apart from contemplating on a legislation that aims to check pollution and \\nprotect the river.',\n",
       " 'duties, AND NAMAMI GANGE PROGRAMME  \\nIntroduction  \\n Ganga is  considered as  the most sacred river ',\n",
       " 'ranging from .05 -1.1 mg/l, with potential to raise the \\nnutrient level to a considerable degree in ')"
      ]
     },
     "execution_count": 21,
     "metadata": {},
     "output_type": "execute_result"
    }
   ],
   "source": [
    "docs_mmr[0].page_content[:100], docs_mmr[1].page_content[:100], docs_mmr[2].page_content[:100]"
   ]
  },
  {
   "cell_type": "code",
   "execution_count": 22,
   "id": "e1c1eae0",
   "metadata": {},
   "outputs": [],
   "source": [
    "from langchain.retrievers import ContextualCompressionRetriever\n",
    "from langchain.retrievers.document_compressors import LLMChainExtractor\n",
    "from langchain.llms import OpenAI"
   ]
  },
  {
   "cell_type": "code",
   "execution_count": 23,
   "id": "996ef561",
   "metadata": {},
   "outputs": [],
   "source": [
    "def pretty_print_docs(docs):\n",
    "    print(f\"\\n{'-' * 100}\\n\".join([f\"Document {i+1}:\\n\\n\" + d.page_content for i, d in enumerate(docs)]))\n"
   ]
  },
  {
   "cell_type": "code",
   "execution_count": 24,
   "id": "22b6af7d",
   "metadata": {},
   "outputs": [],
   "source": [
    "# Wrap our vectorstore\n",
    "llm = OpenAI(temperature=0)\n",
    "compressor = LLMChainExtractor.from_llm(llm)"
   ]
  },
  {
   "cell_type": "code",
   "execution_count": 25,
   "id": "5fae5aba",
   "metadata": {},
   "outputs": [],
   "source": [
    "compression_retriever = ContextualCompressionRetriever(\n",
    "    base_compressor=compressor,\n",
    "    base_retriever=vectordb.as_retriever()\n",
    ")"
   ]
  },
  {
   "cell_type": "code",
   "execution_count": 26,
   "id": "9c5fb516",
   "metadata": {},
   "outputs": [
    {
     "name": "stderr",
     "output_type": "stream",
     "text": [
      "/opt/homebrew/lib/python3.11/site-packages/langchain/chains/llm.py:280: UserWarning: The predict_and_parse method is deprecated, instead pass an output parser directly to LLMChain.\n",
      "  warnings.warn(\n"
     ]
    },
    {
     "name": "stdout",
     "output_type": "stream",
     "text": [
      "Document 1:\n",
      "\n",
      "The Namami Gange will focus on pollution abatement interventions namely interception, diversion & treatment of wastewater flowing through the open drains through bio-remediation/appropriate in-situ treatment/use of innovative technologies/sewage treatment plants (STPs)/effluent treatment plant (ETPs).\n",
      "----------------------------------------------------------------------------------------------------\n",
      "Document 2:\n",
      "\n",
      "\"The Namami Gange Programme covers  short term, medium term a nd long term activities. Under s hort term activities certain entry level activities which covers development of Ghat crematoria & river surface cleaning activities , etc. have been taken up. Under m edium term activities existing sewage treatment plants (STPs) and effluent treatment p lants (ETPs) are being upgraded and new STPs  and ETPs  are being established. Beside, rural sanitation has been taken up in the villages on the banks of river Ganga. The long term action plan involves res toration of wholesomeness of river Ganga, and maintaining the ecological and  geological integrity of river.\"\n",
      "----------------------------------------------------------------------------------------------------\n",
      "Document 3:\n",
      "\n",
      "\"Namami Gange Programme...The Namami Gange programme was introduced in 2014 as an umbrella programme, with the aim of integrating previous and currently ongoing initiatives by enhancing efficiency, extracting synergies and supplementing them with more comprehensive & better coordinated interventions. The Cabinet approved the Namami Gange programme on 13 May 2015 for Rs. 20,000 crore for 5 years (2015 -20).\"\n",
      "----------------------------------------------------------------------------------------------------\n",
      "Document 4:\n",
      "\n",
      "\"NAMAMI GANGE PROGRAMME\"\n"
     ]
    }
   ],
   "source": [
    "question = \"What is the namami gange program about?\"\n",
    "compressed_docs = compression_retriever.get_relevant_documents(question)\n",
    "pretty_print_docs(compressed_docs)"
   ]
  },
  {
   "cell_type": "code",
   "execution_count": 27,
   "id": "d3d40817",
   "metadata": {},
   "outputs": [],
   "source": [
    "compression_retriever = ContextualCompressionRetriever(\n",
    "    base_compressor=compressor,\n",
    "    base_retriever=vectordb.as_retriever(search_type = \"mmr\")\n",
    ")"
   ]
  },
  {
   "cell_type": "code",
   "execution_count": 28,
   "id": "35d2491f",
   "metadata": {},
   "outputs": [
    {
     "name": "stderr",
     "output_type": "stream",
     "text": [
      "Number of requested results 20 is greater than number of elements in index 18, updating n_results = 18\n"
     ]
    },
    {
     "name": "stdout",
     "output_type": "stream",
     "text": [
      "Document 1:\n",
      "\n",
      "The Namami Gange will focus on pollution abatement interventions namely interception, diversion & treatment of wastewater flowing through the open drains through bio-remediation/appropriate in-situ treatment/use of innovative technologies/sewage treatment plants (STPs)/effluent treatment plant (ETPs).\n",
      "----------------------------------------------------------------------------------------------------\n",
      "Document 2:\n",
      "\n",
      "\"The Namami Gange Programme covers  short term, medium term a nd long term activities. Under s hort term activities certain entry level activities which covers development of Ghat crematoria & river surface cleaning activities , etc. have been taken up. Under m edium term activities existing sewage treatment plants (STPs) and effluent treatment p lants (ETPs) are being upgraded and new STPs  and ETPs  are being established. Beside, rural sanitation has been taken up in the villages on the banks of river Ganga. The long term action plan involves res toration of wholesomeness of river Ganga, and maintaining the ecological and  geological integrity of river.\"\n",
      "----------------------------------------------------------------------------------------------------\n",
      "Document 3:\n",
      "\n",
      "\"Namami Gange Programme\" and \"Ganga is considered as the most sacred river in the country with a unique cultural and spiritual significance. Traversing over 2,500 km, River Ganga is highly venerated and millions of people from its origin in the Gangotri glacier in the Himalayas to the Sunderbans delta in Bangladesh depend on its water for their livelihood.\"\n",
      "----------------------------------------------------------------------------------------------------\n",
      "Document 4:\n",
      "\n",
      "The program me also focuses on involving the States and grassroots level institutions such as Urban Local Bodies and Panchayati Raj Institutions in implementation. The program would be implemented by the National Mission for Clean Ganga (NMCG), and its State counterpart organizations i.e., State Program Management.\n"
     ]
    }
   ],
   "source": [
    "question = \"What is the namami gange program about?\"\n",
    "compressed_docs = compression_retriever.get_relevant_documents(question)\n",
    "pretty_print_docs(compressed_docs)"
   ]
  },
  {
   "cell_type": "markdown",
   "id": "260cca96",
   "metadata": {},
   "source": [
    "## LLM"
   ]
  },
  {
   "cell_type": "code",
   "execution_count": 29,
   "id": "bb8b8926",
   "metadata": {},
   "outputs": [
    {
     "name": "stdout",
     "output_type": "stream",
     "text": [
      "gpt-3.5-turbo\n"
     ]
    }
   ],
   "source": [
    "import datetime\n",
    "current_date = datetime.datetime.now().date()\n",
    "if current_date < datetime.date(2023, 9, 2):\n",
    "    LLM_NAME = os.environ['TURBO-PREVIEW']\n",
    "else:\n",
    "    LLM_NAME = os.envron[\"TURBO\"]"
   ]
  },
  {
   "cell_type": "code",
   "execution_count": 30,
   "id": "4510e8ae",
   "metadata": {},
   "outputs": [],
   "source": [
    "from langchain.vectorstores import Chroma\n",
    "from langchain.embeddings.openai import OpenAIEmbeddings\n",
    "persist_directory = 'vector-store/chroma/'\n",
    "embedding = OpenAIEmbeddings()\n",
    "vectordb = Chroma(persist_directory=persist_directory, embedding_function=embedding)"
   ]
  },
  {
   "cell_type": "code",
   "execution_count": 31,
   "id": "a8bd7c92",
   "metadata": {},
   "outputs": [
    {
     "name": "stdout",
     "output_type": "stream",
     "text": [
      "18\n"
     ]
    }
   ],
   "source": [
    "print(vectordb._collection.count())"
   ]
  },
  {
   "cell_type": "code",
   "execution_count": 32,
   "id": "e0e91a7c",
   "metadata": {},
   "outputs": [],
   "source": [
    "from langchain.chat_models import ChatOpenAI\n",
    "llm = ChatOpenAI(model_name=LLM_NAME, temperature=0)"
   ]
  },
  {
   "cell_type": "markdown",
   "id": "d5df2902",
   "metadata": {},
   "source": [
    "### RetrievalQA Chain"
   ]
  },
  {
   "cell_type": "code",
   "execution_count": 33,
   "id": "f2e45e8d",
   "metadata": {},
   "outputs": [],
   "source": [
    "from langchain.chains import RetrievalQA"
   ]
  },
  {
   "cell_type": "code",
   "execution_count": 35,
   "id": "600dab1e",
   "metadata": {},
   "outputs": [],
   "source": [
    "qa_chain = RetrievalQA.from_chain_type(llm, retriever=vectordb.as_retriever())"
   ]
  },
  {
   "cell_type": "code",
   "execution_count": 37,
   "id": "99fa96ee",
   "metadata": {},
   "outputs": [
    {
     "data": {
      "text/plain": [
       "3"
      ]
     },
     "execution_count": 37,
     "metadata": {},
     "output_type": "execute_result"
    }
   ],
   "source": [
    "question = \"What is the namami gange program about?\"\n",
    "docs = vectordb.similarity_search(question,k=3)\n",
    "len(docs)"
   ]
  },
  {
   "cell_type": "code",
   "execution_count": 38,
   "id": "dccdeee5",
   "metadata": {},
   "outputs": [],
   "source": [
    "result = qa_chain({\"query\": question})"
   ]
  },
  {
   "cell_type": "code",
   "execution_count": 39,
   "id": "f9124ad2",
   "metadata": {},
   "outputs": [
    {
     "data": {
      "text/plain": [
       "'The Namami Gange program is an initiative introduced in 2014 by the Indian government to clean and rejuvenate the River Ganga. It aims to integrate previous and ongoing initiatives by enhancing efficiency, coordination, and comprehensive interventions. The program focuses on pollution abatement interventions such as wastewater treatment, interception, diversion, and treatment of open drains. It also includes the rehabilitation and augmentation of existing sewage treatment plants, as well as measures to prevent the inflow of sewage at exit points on the riverfront. The program has a five-tier structure, including the National Ganga Council, Empowered Task Force, National Mission for Clean Ganga, State Ganga Committees, and District Ganga Committees. The program is expected to deliver socio-economic benefits such as job creation, improved livelihoods, and health benefits to the population dependent on the river.'"
      ]
     },
     "execution_count": 39,
     "metadata": {},
     "output_type": "execute_result"
    }
   ],
   "source": [
    "result[\"result\"]"
   ]
  },
  {
   "cell_type": "markdown",
   "id": "7943f031",
   "metadata": {},
   "source": [
    "### Prompt"
   ]
  },
  {
   "cell_type": "code",
   "execution_count": 40,
   "id": "3d9f5a7b",
   "metadata": {},
   "outputs": [],
   "source": [
    "from langchain.prompts import PromptTemplate\n",
    "\n",
    "# Build prompt\n",
    "template = \"\"\"Use the following pieces of context to answer the question at the end. If you don't know the answer, just say that you don't know, don't try to make up an answer. Use three sentences maximum. Keep the answer as concise as possible. Always say \"thanks for asking!\" at the end of the answer. \n",
    "{context}\n",
    "Question: {question}\n",
    "Helpful Answer:\"\"\"\n",
    "QA_CHAIN_PROMPT = PromptTemplate.from_template(template)"
   ]
  },
  {
   "cell_type": "code",
   "execution_count": 41,
   "id": "92dd40e0",
   "metadata": {},
   "outputs": [],
   "source": [
    "# Run chain\n",
    "qa_chain = RetrievalQA.from_chain_type(\n",
    "    llm,\n",
    "    retriever=vectordb.as_retriever(),\n",
    "    return_source_documents=True,\n",
    "    chain_type_kwargs={\"prompt\": QA_CHAIN_PROMPT}\n",
    ")"
   ]
  },
  {
   "cell_type": "code",
   "execution_count": 44,
   "id": "a91001d5",
   "metadata": {},
   "outputs": [],
   "source": [
    "question = \"What is the importance of Ganga river?\"\n",
    "result = qa_chain({\"query\": question})"
   ]
  },
  {
   "cell_type": "code",
   "execution_count": 45,
   "id": "9b071c46",
   "metadata": {},
   "outputs": [
    {
     "data": {
      "text/plain": [
       "'The Ganga river is considered the most sacred river in the country and holds cultural and spiritual significance for Indians. It provides water for the livelihood of millions of people and is highly revered. Thanks for asking!'"
      ]
     },
     "execution_count": 45,
     "metadata": {},
     "output_type": "execute_result"
    }
   ],
   "source": [
    "result[\"result\"]"
   ]
  },
  {
   "cell_type": "code",
   "execution_count": 46,
   "id": "e1125265",
   "metadata": {},
   "outputs": [],
   "source": [
    "question = \"What is Namami Gange's aim?\"\n",
    "result = qa_chain({\"query\": question})"
   ]
  },
  {
   "cell_type": "code",
   "execution_count": 47,
   "id": "8b57db0a",
   "metadata": {},
   "outputs": [
    {
     "data": {
      "text/plain": [
       "'The aim of the Namami Gange program is to abate pollution, protect the river, and maintain water quality in the Ganga basin states. Thanks for asking!'"
      ]
     },
     "execution_count": 47,
     "metadata": {},
     "output_type": "execute_result"
    }
   ],
   "source": [
    "result[\"result\"]"
   ]
  },
  {
   "cell_type": "markdown",
   "id": "d09c4488",
   "metadata": {},
   "source": [
    "### Chat System"
   ]
  },
  {
   "cell_type": "code",
   "execution_count": null,
   "id": "cd8dcd5c",
   "metadata": {},
   "outputs": [],
   "source": []
  }
 ],
 "metadata": {
  "kernelspec": {
   "display_name": "Python 3 (ipykernel)",
   "language": "python",
   "name": "python3"
  },
  "language_info": {
   "codemirror_mode": {
    "name": "ipython",
    "version": 3
   },
   "file_extension": ".py",
   "mimetype": "text/x-python",
   "name": "python",
   "nbconvert_exporter": "python",
   "pygments_lexer": "ipython3",
   "version": "3.11.5"
  }
 },
 "nbformat": 4,
 "nbformat_minor": 5
}
