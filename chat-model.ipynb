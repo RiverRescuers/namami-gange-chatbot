{
 "cells": [
  {
   "cell_type": "code",
   "execution_count": 15,
   "id": "5d8ac1f8",
   "metadata": {},
   "outputs": [
    {
     "name": "stdout",
     "output_type": "stream",
     "text": [
      "Requirement already satisfied: pypdf in /opt/homebrew/lib/python3.11/site-packages (3.16.2)\r\n"
     ]
    }
   ],
   "source": [
    "# !pip install langchain\n",
    "# ! pip install pypdf"
   ]
  },
  {
   "cell_type": "code",
   "execution_count": 16,
   "id": "bf54520d",
   "metadata": {},
   "outputs": [],
   "source": [
    "import os\n",
    "import openai\n",
    "import sys\n",
    "sys.path.append('../..')\n",
    "\n",
    "from dotenv import load_dotenv, find_dotenv\n",
    "_ = load_dotenv(find_dotenv()) # read local .env file\n",
    "\n",
    "openai.api_key  = os.environ['OPENAI_API_KEY']"
   ]
  },
  {
   "cell_type": "code",
   "execution_count": 23,
   "id": "3ecffd38",
   "metadata": {},
   "outputs": [],
   "source": [
    "from langchain.document_loaders import PyPDFLoader\n",
    "loader = PyPDFLoader(\"pdfs/Namami-Gange-Programme.pdf\")\n",
    "pages = loader.load()"
   ]
  },
  {
   "cell_type": "code",
   "execution_count": 24,
   "id": "02eb6b40",
   "metadata": {},
   "outputs": [
    {
     "data": {
      "text/plain": [
       "(9,\n",
       " Document(page_content='duties, AND NAMAMI GANGE PROGRAMME  \\nIntroduction  \\n Ganga is  considered as  the most sacred river in the  country with a unique \\ncultural and spiritual significance.  It occupies  a specia l place in every Indian’s \\nheart. Traversing over 2,500 km,  River Ganga is highly vene rated and millions of \\npeople from its origin in the Gangotri g lacier in the Himalayas to the Sunderbans \\ndelta in Bangladesh  depend on its water for their  livelihood . \\nRiver Network  \\n The River Ganga originates in the Himalayas with several major head -\\nstreams – Alaknanda, Bhagirathi, Bhilangana, Dhauliganga, Mandakini,  Nandakini \\nand Pindar, which progressively join together on or before Devaprayag. \\nDescending in the plains, the river flows approximately southeast and is joined by \\nseveral large streams such as Ramganga, Yamuna, Kosi, Gandak, Gomti, Sone, \\nKaramnasa and Gh aghra to become an immense river in the plains below \\nAllahabad. The river then flows through the Rajmahal hills and divides into two \\nstreams. The eastern branch – River Padma – flows southeast through Bangladesh \\nto join the Brahmaputra and Meghna rivers be fore flowing into the sea. The south -\\nflowing branch – River Hooghly – is joined by Rivers Damodar and Mayurakshi \\nbefore reaching the sea. The combined outfalls of the two branches together form \\nthe world\\'s largest delta (the \"Sunderban Delta\" covering abou t 60,000 sq.km.) \\nstretching across Bangladesh and West Bengal. Overall, River Ganga is more than \\n2500 km long.1 Diagram of River Ganga and her major tributaries are given in \\nAnnexure  I. \\nSalient Features of River Ganga  \\n Total Length      2525kms  \\n Uttarakhand      450kms  \\n Uttar Pradesh      1000kms  \\n Sharing length between UP & Bihar   110kms  \\n Bihar       405kms  \\n                                                           \\n1 Ganga River Bas in Management Plan, 2015, p.17 -18. ', metadata={'source': 'pdfs/Namami-Gange-Programme.pdf', 'page': 0}))"
      ]
     },
     "execution_count": 24,
     "metadata": {},
     "output_type": "execute_result"
    }
   ],
   "source": [
    "len(pages), pages[0]"
   ]
  },
  {
   "cell_type": "code",
   "execution_count": 26,
   "id": "1cba315e",
   "metadata": {},
   "outputs": [],
   "source": [
    "from langchain.text_splitter import RecursiveCharacterTextSplitter, CharacterTextSplitter"
   ]
  },
  {
   "cell_type": "code",
   "execution_count": 53,
   "id": "1c6191b9",
   "metadata": {},
   "outputs": [],
   "source": [
    "text_splitter = CharacterTextSplitter(\n",
    "    separator='\\n',\n",
    "    chunk_size=1000,\n",
    "    chunk_overlap=150,\n",
    "    length_function=len\n",
    ")"
   ]
  },
  {
   "cell_type": "code",
   "execution_count": 57,
   "id": "c2712454",
   "metadata": {},
   "outputs": [],
   "source": [
    "text_splitter = RecursiveCharacterTextSplitter(\n",
    "    chunk_size=1000,\n",
    "    chunk_overlap=150,\n",
    "    separators=[\"\\n\\n\", \"\\n\", \"(?<=\\. )\"]\n",
    ")"
   ]
  },
  {
   "cell_type": "code",
   "execution_count": 58,
   "id": "3edb70b3",
   "metadata": {},
   "outputs": [],
   "source": [
    "docs = text_splitter.split_documents(pages)"
   ]
  },
  {
   "cell_type": "code",
   "execution_count": 59,
   "id": "29f2d566",
   "metadata": {},
   "outputs": [
    {
     "data": {
      "text/plain": [
       "(27, 9)"
      ]
     },
     "execution_count": 59,
     "metadata": {},
     "output_type": "execute_result"
    }
   ],
   "source": [
    "len(docs), len(pages)"
   ]
  },
  {
   "cell_type": "code",
   "execution_count": 60,
   "id": "738288de",
   "metadata": {},
   "outputs": [
    {
     "data": {
      "text/plain": [
       "Document(page_content='duties, AND NAMAMI GANGE PROGRAMME  \\nIntroduction  \\n Ganga is  considered as  the most sacred river in the  country with a unique \\ncultural and spiritual significance.  It occupies  a specia l place in every Indian’s \\nheart. Traversing over 2,500 km,  River Ganga is highly vene rated and millions of \\npeople from its origin in the Gangotri g lacier in the Himalayas to the Sunderbans \\ndelta in Bangladesh  depend on its water for their  livelihood . \\nRiver Network  \\n The River Ganga originates in the Himalayas with several major head -\\nstreams – Alaknanda, Bhagirathi, Bhilangana, Dhauliganga, Mandakini,  Nandakini \\nand Pindar, which progressively join together on or before Devaprayag. \\nDescending in the plains, the river flows approximately southeast and is joined by \\nseveral large streams such as Ramganga, Yamuna, Kosi, Gandak, Gomti, Sone, \\nKaramnasa and Gh aghra to become an immense river in the plains below', metadata={'source': 'pdfs/Namami-Gange-Programme.pdf', 'page': 0})"
      ]
     },
     "execution_count": 60,
     "metadata": {},
     "output_type": "execute_result"
    }
   ],
   "source": [
    "docs[0]"
   ]
  },
  {
   "cell_type": "code",
   "execution_count": 56,
   "id": "c4ba4503",
   "metadata": {},
   "outputs": [
    {
     "data": {
      "text/plain": [
       "Document(page_content='duties, AND NAMAMI GANGE PROGRAMME  \\nIntroduction  \\n Ganga is  considered as  the most sacred river in the  country with a unique \\ncultural and spiritual significance.  It occupies  a specia l place in every Indian’s \\nheart. Traversing over 2,500 km,  River Ganga is highly vene rated and millions of \\npeople from its origin in the Gangotri g lacier in the Himalayas to the Sunderbans \\ndelta in Bangladesh  depend on its water for their  livelihood . \\nRiver Network  \\n The River Ganga originates in the Himalayas with several major head -\\nstreams – Alaknanda, Bhagirathi, Bhilangana, Dhauliganga, Mandakini,  Nandakini \\nand Pindar, which progressively join together on or before Devaprayag. \\nDescending in the plains, the river flows approximately southeast and is joined by \\nseveral large streams such as Ramganga, Yamuna, Kosi, Gandak, Gomti, Sone, \\nKaramnasa and Gh aghra to become an immense river in the plains below', metadata={'source': 'pdfs/Namami-Gange-Programme.pdf', 'page': 0})"
      ]
     },
     "execution_count": 56,
     "metadata": {},
     "output_type": "execute_result"
    }
   ],
   "source": [
    "docs[0]"
   ]
  },
  {
   "cell_type": "code",
   "execution_count": null,
   "id": "8f42a0f1",
   "metadata": {},
   "outputs": [],
   "source": []
  },
  {
   "cell_type": "code",
   "execution_count": null,
   "id": "e4a83c7c",
   "metadata": {},
   "outputs": [],
   "source": []
  },
  {
   "cell_type": "code",
   "execution_count": null,
   "id": "03869d6f",
   "metadata": {},
   "outputs": [],
   "source": []
  },
  {
   "cell_type": "code",
   "execution_count": null,
   "id": "2ca30a57",
   "metadata": {},
   "outputs": [],
   "source": []
  },
  {
   "cell_type": "code",
   "execution_count": null,
   "id": "bf406c16",
   "metadata": {},
   "outputs": [],
   "source": []
  }
 ],
 "metadata": {
  "kernelspec": {
   "display_name": "Python 3 (ipykernel)",
   "language": "python",
   "name": "python3"
  },
  "language_info": {
   "codemirror_mode": {
    "name": "ipython",
    "version": 3
   },
   "file_extension": ".py",
   "mimetype": "text/x-python",
   "name": "python",
   "nbconvert_exporter": "python",
   "pygments_lexer": "ipython3",
   "version": "3.11.5"
  }
 },
 "nbformat": 4,
 "nbformat_minor": 5
}
